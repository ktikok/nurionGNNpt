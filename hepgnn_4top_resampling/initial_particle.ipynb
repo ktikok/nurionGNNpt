{
 "cells": [
  {
   "cell_type": "code",
   "execution_count": 1,
   "metadata": {},
   "outputs": [],
   "source": [
    "import numpy as np\n",
    "import torch\n",
    "import h5py\n",
    "import torch.nn as nn\n",
    "import torch_geometric\n",
    "import torch.nn.functional as F\n",
    "import torch_geometric.nn as PyG\n",
    "from torch_geometric.transforms import Distance\n",
    "from torch_geometric.data import DataLoader\n",
    "from torch_geometric.data import Data as PyGData\n",
    "from torch_geometric.data import Data\n",
    "import sys, os\n",
    "import subprocess\n",
    "import csv, yaml\n",
    "import math\n",
    "from tqdm import tqdm\n",
    "from sklearn.metrics import accuracy_score\n",
    "import torch.optim as optim\n",
    "import argparse\n",
    "import pandas as pd\n",
    "import matplotlib.pyplot as plt\n",
    "import networkx as nx"
   ]
  },
  {
   "cell_type": "code",
   "execution_count": 2,
   "metadata": {},
   "outputs": [],
   "source": [
    "path = '/users/yewzzang/TTTT_TuneCP5_13TeV-amcatnlo-pythia8/4top_dump_ex2/220323_084833/delphes'\n",
    "graph_path = '/users/yewzzang/TTTT_TuneCP5_13TeV-amcatnlo-pythia8/4top_dump_ex2/220323_084833/graph/'\n",
    "output_path = '/users/yewzzang/TTTT_TuneCP5_13TeV-amcatnlo-pythia8/4top_dump_ex2/220323_084833/h5/'\n",
    "\n",
    "# path = '/users/yewzzang/TTTT_TuneCP5_13TeV-amcatnlo-pythia8/4top_dump_ex1/220324_055935/delphes'\n",
    "# graph_path = '/users/yewzzang/TTTT_TuneCP5_13TeV-amcatnlo-pythia8/4top_dump_ex1/220324_055935/graph/'\n",
    "# output_path = '/users/yewzzang/TTTT_TuneCP5_13TeV-amcatnlo-pythia8/4top_dump_ex1/220324_055935/h5/'\n",
    "\n"
   ]
  },
  {
   "cell_type": "code",
   "execution_count": 4,
   "metadata": {},
   "outputs": [],
   "source": [
    "res = [] \n",
    "for root, dirs, files in os.walk(graph_path):\n",
    "    rootpath = os.path.join(os.path.abspath(graph_path), root)\n",
    "    for file in files:\n",
    "        filepath = os.path.join(rootpath, file)\n",
    "        \n",
    "        filetype = filepath.split('.')[-1]\n",
    "        if filetype != 'h5': continue\n",
    "  \n",
    "        res.append(filepath)"
   ]
  },
  {
   "cell_type": "code",
   "execution_count": 5,
   "metadata": {},
   "outputs": [],
   "source": [
    "file = h5py.File(res[0],'r')"
   ]
  },
  {
   "cell_type": "code",
   "execution_count": 27,
   "metadata": {},
   "outputs": [],
   "source": [
    "\n",
    "datalist = []\n",
    "for i in range(len(file['events']['m'])):\n",
    "# for i in range(1000):\n",
    "    feature = torch.Tensor((np.ones(len(file['events']['m'][i]))*np.array(file['events']['id'][i])).reshape(-1,1))\n",
    "\n",
    "    if len(feature[(torch.abs(feature) > 10) & (torch.abs(feature)<20)]) >0:\n",
    "        continue\n",
    "    else:\n",
    "        status = torch.Tensor(np.array(file['events']['status'][i]).reshape(-1,1))\n",
    "\n",
    "        weight = torch.Tensor((np.ones(len(file['events']['m'][i]))*np.array(file['events']['weight'][i])).reshape(-1,1))\n",
    "\n",
    "        px = torch.Tensor(np.array(file['events']['px'][i]).reshape(-1,1))\n",
    "        py = torch.Tensor(np.array(file['events']['py'][i]).reshape(-1,1))\n",
    "        pz = torch.Tensor(np.array(file['events']['pz'][i]).reshape(-1,1))\n",
    "\n",
    "        edge = torch.Tensor(np.concatenate((np.array(file['graphs']['edge2'])[i].reshape(-1,1).T,np.array(file['graphs']['edge1'])[i].reshape(-1,1).T),axis=0)).type(dtype = torch.long)\n",
    "        data = PyGData(x = feature,edge_index = edge, weight = weight)\n",
    "        data.st = status\n",
    "        data.px = px\n",
    "        data.py = py\n",
    "        data.pz = pz\n",
    " \n",
    "\n",
    "\n",
    "        datalist.append(data)\n",
    "    file_name = 'hadr' + res[i].split('/')[-1][:-3] + '.pt'\n",
    "    torch.save(datalist, file_name)"
   ]
  },
  {
   "cell_type": "code",
   "execution_count": 39,
   "metadata": {},
   "outputs": [],
   "source": [
    "pa_23_particles = np.zeros([1,3])\n",
    "ne_23_particles = np.zeros([1,3])\n",
    "\n",
    "pa_22_particles = np.zeros([1,2])\n",
    "ne_22_particles = np.zeros([1,2])\n",
    "for i in range(len(datalist)):\n",
    "# for i in range(50):\n",
    "    if len(datalist[i].x) == 23:\n",
    "        if datalist[i].weight[0] < 0:\n",
    "            ne_23_particles = np.concatenate([ne_23_particles,(np.concatenate([datalist[i].x[0],datalist[i].x[1],datalist[i].x[22]]).reshape(1,3))],axis=0)\n",
    "    if len(datalist[i].x) == 23:\n",
    "        if datalist[i].weight[0] > 0:\n",
    "            pa_23_particles = np.concatenate([pa_23_particles,(np.concatenate([datalist[i].x[0],datalist[i].x[1],datalist[i].x[22]]).reshape(1,3))],axis=0)\n",
    "    \n",
    "    if len(datalist[i].x) == 22:\n",
    "        if datalist[i].weight[0] < 0:\n",
    "            ne_22_particles = np.concatenate([ne_22_particles,(np.concatenate([datalist[i].x[0],datalist[i].x[1]]).reshape(1,2))],axis=0)\n",
    "    if len(datalist[i].x) == 22:\n",
    "        if datalist[i].weight[0] > 0:\n",
    "            pa_22_particles = np.concatenate([pa_22_particles,(np.concatenate([datalist[i].x[0],datalist[i].x[1]]).reshape(1,2))],axis=0)"
   ]
  },
  {
   "cell_type": "code",
   "execution_count": 42,
   "metadata": {},
   "outputs": [
    {
     "name": "stdout",
     "output_type": "stream",
     "text": [
      "(5482, 2)\n",
      "(1225, 2)\n",
      "(414, 3)\n",
      "(1490, 3)\n"
     ]
    }
   ],
   "source": [
    "print(pa_22_particles.shape)\n",
    "print(ne_22_particles.shape)\n",
    "print(pa_23_particles.shape)\n",
    "print(ne_23_particles.shape)"
   ]
  },
  {
   "cell_type": "code",
   "execution_count": null,
   "metadata": {
    "scrolled": true
   },
   "outputs": [],
   "source": [
    "a = 0 \n",
    "for i in range(len(hadr)):\n",
    "# for i in range(50):\n",
    "    if len(hadr[i].x) == 23:\n",
    "        if hadr[i].weight[0] > 0:\n",
    "#             if torch.cat([hadr[i].x[0],hadr[i].x[1],hadr[i].x[22]]) == torch.Tensor([21,21,21]):\n",
    "            if hadr[i].x[0] == 21:\n",
    "                if hadr[i].x[1] == -5:\n",
    "                    if hadr[i].x[22] == -5:\n",
    "    #                     print(torch.cat([hadr[i].x[0],hadr[i].x[1],hadr[i].x[22]]))\n",
    "        #                 print(torch.cat([hadr[i].x[0],hadr[i].x[1]]))\n",
    "                        plot_graph_test(hadr[i])\n",
    "                        a = a + 1\n",
    "print(a)"
   ]
  },
  {
   "cell_type": "code",
   "execution_count": null,
   "metadata": {},
   "outputs": [],
   "source": [
    "ne = 0\n",
    "ne_23 = 0\n",
    "ne_22 = 0\n",
    "for i in range(len(hadr)):\n",
    "    if hadr[i].weight[0] < 0:\n",
    "        ne = ne +1\n",
    "    else:\n",
    "        continue\n",
    "    if len(hadr[i].weight) ==22:\n",
    "        ne_22 = ne_22 + 1\n",
    "    else:\n",
    "        ne_23 = ne_23 +1"
   ]
  },
  {
   "cell_type": "code",
   "execution_count": null,
   "metadata": {},
   "outputs": [],
   "source": [
    "pa = 0\n",
    "pa_23 = 0\n",
    "pa_22 = 0\n",
    "for i in range(len(hadr)):\n",
    "    if hadr[i].weight[0] > 0:\n",
    "        pa = pa +1\n",
    "    else:\n",
    "        continue\n",
    "    if len(hadr[i].weight) ==22:\n",
    "        pa_22 = pa_22 + 1\n",
    "    else:\n",
    "        pa_23 = pa_23 +1"
   ]
  },
  {
   "cell_type": "code",
   "execution_count": null,
   "metadata": {},
   "outputs": [],
   "source": [
    "pa_23_particles = np.zeros([1,3])\n",
    "ne_23_particles = np.zeros([1,3])\n",
    "\n",
    "pa_22_particles = np.zeros([1,2])\n",
    "ne_22_particles = np.zeros([1,2])\n",
    "for i in range(len(hadr)):\n",
    "# for i in range(50):\n",
    "    if len(hadr[i].x) == 23:\n",
    "        if hadr[i].weight[0] < 0:\n",
    "            ne_23_particles = np.concatenate([ne_23_particles,(np.concatenate([hadr[i].x[0],hadr[i].x[1],hadr[i].x[22]]).reshape(1,3))],axis=0)\n",
    "    if len(hadr[i].x) == 23:\n",
    "        if hadr[i].weight[0] > 0:\n",
    "            pa_23_particles = np.concatenate([pa_23_particles,(np.concatenate([hadr[i].x[0],hadr[i].x[1],hadr[i].x[22]]).reshape(1,3))],axis=0)\n",
    "    \n",
    "    if len(hadr[i].x) == 22:\n",
    "        if hadr[i].weight[0] < 0:\n",
    "            ne_22_particles = np.concatenate([ne_22_particles,(np.concatenate([hadr[i].x[0],hadr[i].x[1]]).reshape(1,2))],axis=0)\n",
    "    if len(hadr[i].x) == 22:\n",
    "        if hadr[i].weight[0] > 0:\n",
    "            pa_22_particles = np.concatenate([pa_22_particles,(np.concatenate([hadr[i].x[0],hadr[i].x[1]]).reshape(1,2))],axis=0)"
   ]
  },
  {
   "cell_type": "code",
   "execution_count": null,
   "metadata": {},
   "outputs": [],
   "source": [
    "ne_23_particles = ne_23_particles[1:]\n",
    "pa_23_particles = pa_23_particles[1:]\n",
    "ne_22_particles = ne_22_particles[1:]\n",
    "pa_22_particles = pa_22_particles[1:]"
   ]
  },
  {
   "cell_type": "code",
   "execution_count": null,
   "metadata": {},
   "outputs": [],
   "source": [
    "uni_ne_23 = np.unique(ne_23_particles,axis=0)\n",
    "uni_pa_23 = np.unique(pa_23_particles,axis=0)\n",
    "uni_ne_22 = np.unique(ne_22_particles,axis=0)\n",
    "uni_pa_22 = np.unique(pa_22_particles,axis=0)"
   ]
  },
  {
   "cell_type": "code",
   "execution_count": null,
   "metadata": {},
   "outputs": [],
   "source": []
  },
  {
   "cell_type": "code",
   "execution_count": null,
   "metadata": {},
   "outputs": [],
   "source": []
  },
  {
   "cell_type": "code",
   "execution_count": null,
   "metadata": {},
   "outputs": [],
   "source": []
  },
  {
   "cell_type": "code",
   "execution_count": null,
   "metadata": {},
   "outputs": [],
   "source": []
  },
  {
   "cell_type": "code",
   "execution_count": null,
   "metadata": {},
   "outputs": [],
   "source": []
  },
  {
   "cell_type": "code",
   "execution_count": null,
   "metadata": {},
   "outputs": [],
   "source": []
  },
  {
   "cell_type": "code",
   "execution_count": null,
   "metadata": {},
   "outputs": [],
   "source": []
  }
 ],
 "metadata": {
  "kernelspec": {
   "display_name": "Python 3",
   "language": "python",
   "name": "python3"
  },
  "language_info": {
   "codemirror_mode": {
    "name": "ipython",
    "version": 3
   },
   "file_extension": ".py",
   "mimetype": "text/x-python",
   "name": "python",
   "nbconvert_exporter": "python",
   "pygments_lexer": "ipython3",
   "version": "3.7.9"
  }
 },
 "nbformat": 4,
 "nbformat_minor": 4
}
