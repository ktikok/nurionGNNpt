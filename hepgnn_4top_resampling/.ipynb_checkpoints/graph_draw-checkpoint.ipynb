{
 "cells": [
  {
   "cell_type": "code",
   "execution_count": 1,
   "metadata": {},
   "outputs": [],
   "source": [
    "import numpy as np\n",
    "import torch\n",
    "import h5py\n",
    "import torch.nn as nn\n",
    "import torch_geometric\n",
    "import torch.nn.functional as F\n",
    "import torch_geometric.nn as PyG\n",
    "from torch_geometric.transforms import Distance\n",
    "from torch_geometric.data import DataLoader\n",
    "from torch_geometric.data import Data as PyGData\n",
    "from torch_geometric.data import Data\n",
    "import sys, os\n",
    "import subprocess\n",
    "import csv, yaml\n",
    "import math\n",
    "from tqdm import tqdm\n",
    "from sklearn.metrics import accuracy_score\n",
    "import torch.optim as optim\n",
    "import argparse\n",
    "import pandas as pd\n",
    "import matplotlib.pyplot as plt"
   ]
  },
  {
   "cell_type": "code",
   "execution_count": 2,
   "metadata": {},
   "outputs": [],
   "source": [
    "# f = h5py.File('/store/hep/users/jhgoh/nurion4hep/20211116_1/graph/9CED6751-B459-1442-AB96-EE3FB4F6E268.h5','r')"
   ]
  },
  {
   "cell_type": "code",
   "execution_count": 3,
   "metadata": {},
   "outputs": [],
   "source": [
    "# f['events'].keys()"
   ]
  },
  {
   "cell_type": "code",
   "execution_count": 4,
   "metadata": {},
   "outputs": [],
   "source": [
    "# f['events']['px'][0]"
   ]
  },
  {
   "cell_type": "code",
   "execution_count": 5,
   "metadata": {},
   "outputs": [],
   "source": [
    "sys.path.append(\"./python\")\n",
    "from model.allModel import *"
   ]
  },
  {
   "cell_type": "code",
   "execution_count": 6,
   "metadata": {},
   "outputs": [],
   "source": [
    "# args = parser.parse_args() ## not jupyter\n",
    "import easydict\n",
    "args = easydict.EasyDict({\n",
    "    \"config\" : 'config_eval.yaml' ,\n",
    "    \"output\" : '20220407_4top_test2',\n",
    "    \"epoch\" : 1,\n",
    "    \"seed\" : 12345,\n",
    "    \"lr\" : 1e-4,\n",
    "    \"batch\" : 1,\n",
    "    \"model\" : 'GNN3layer',\n",
    "    \"fea\" : 6,\n",
    "    \"cla\" : 1,\n",
    "    \"device\" : 3\n",
    "\n",
    "   \n",
    "})"
   ]
  },
  {
   "cell_type": "code",
   "execution_count": 7,
   "metadata": {},
   "outputs": [],
   "source": [
    "config = yaml.load(open(args.config).read(), Loader=yaml.FullLoader)\n",
    "config['training']['learningRate'] = float(config['training']['learningRate'])\n",
    "if args.seed: config['training']['randomSeed1'] = args.seed\n",
    "if args.epoch: config['training']['epoch'] = args.epoch\n",
    "if args.lr: config['training']['learningRate'] = args.lr"
   ]
  },
  {
   "cell_type": "code",
   "execution_count": 8,
   "metadata": {},
   "outputs": [],
   "source": [
    "torch.set_num_threads(os.cpu_count())\n",
    "if torch.cuda.is_available() and args.device >= 0: torch.cuda.set_device(args.device)\n",
    "if not os.path.exists('result/' + args.output): os.makedirs('result/' + args.output)"
   ]
  },
  {
   "cell_type": "code",
   "execution_count": null,
   "metadata": {},
   "outputs": [
    {
     "name": "stdout",
     "output_type": "stream",
     "text": [
      "4top /users/yewzzang/TTTT_TuneCP5_13TeV-amcatnlo-pythia8/4top_dump_ex1/220324_055935/graph/4top_ex1_8*.h5\n",
      "   procName                                           fileName        weight  \\\n",
      "0      4top  /users/yewzzang/TTTT_TuneCP5_13TeV-amcatnlo-py...  1.004000e-09   \n",
      "1      4top  /users/yewzzang/TTTT_TuneCP5_13TeV-amcatnlo-py...  1.004000e-09   \n",
      "2      4top  /users/yewzzang/TTTT_TuneCP5_13TeV-amcatnlo-py...  1.004000e-09   \n",
      "3      4top  /users/yewzzang/TTTT_TuneCP5_13TeV-amcatnlo-py...  1.004000e-09   \n",
      "4      4top  /users/yewzzang/TTTT_TuneCP5_13TeV-amcatnlo-py...  1.004000e-09   \n",
      "5      4top  /users/yewzzang/TTTT_TuneCP5_13TeV-amcatnlo-py...  1.004000e-09   \n",
      "6      4top  /users/yewzzang/TTTT_TuneCP5_13TeV-amcatnlo-py...  1.004000e-09   \n",
      "7      4top  /users/yewzzang/TTTT_TuneCP5_13TeV-amcatnlo-py...  1.004000e-09   \n",
      "8      4top  /users/yewzzang/TTTT_TuneCP5_13TeV-amcatnlo-py...  1.004000e-09   \n",
      "9      4top  /users/yewzzang/TTTT_TuneCP5_13TeV-amcatnlo-py...  1.004000e-09   \n",
      "10     4top  /users/yewzzang/TTTT_TuneCP5_13TeV-amcatnlo-py...  1.004000e-09   \n",
      "\n",
      "   fileIdx  nEvent  label  \n",
      "0        0     0.0    2.0  \n",
      "1        1     0.0    2.0  \n",
      "2        2     0.0    2.0  \n",
      "3        3     0.0    2.0  \n",
      "4        4     0.0    2.0  \n",
      "5        5     0.0    2.0  \n",
      "6        6     0.0    2.0  \n",
      "7        7     0.0    2.0  \n",
      "8        8     0.0    2.0  \n",
      "9        9     0.0    2.0  \n",
      "10      10     0.0    2.0  \n"
     ]
    }
   ],
   "source": [
    "import time\n",
    "start = time.time()\n",
    "##### Define dataset instance #####\n",
    "from dataset.HEPGNNDataset_h5_LHE_draw import *\n",
    "dset = HEPGNNDataset_h5_LHE_draw()\n",
    "for sampleInfo in config['samples']:\n",
    "    if 'ignore' in sampleInfo and sampleInfo['ignore']: continue\n",
    "    name = sampleInfo['name']\n",
    "    dset.addSample(name, sampleInfo['path'], weight=sampleInfo['xsec']/sampleInfo['ngen'])\n",
    "    dset.setProcessLabel(name, sampleInfo['label'])\n",
    "dset.initialize()"
   ]
  },
  {
   "cell_type": "code",
   "execution_count": null,
   "metadata": {},
   "outputs": [],
   "source": [
    "lengths = [int(x*len(dset)) for x in config['training']['splitFractions']]\n",
    "lengths.append(len(dset)-sum(lengths))\n",
    "torch.manual_seed(config['training']['randomSeed1'])\n",
    "kwargs = {'num_workers':min(config['training']['nDataLoaders'], os.cpu_count()),\n",
    "          'batch_size':args.batch, 'pin_memory':False}"
   ]
  },
  {
   "cell_type": "code",
   "execution_count": null,
   "metadata": {},
   "outputs": [],
   "source": [
    "testLoader = DataLoader(dset, **kwargs)\n",
    "torch.manual_seed(torch.initial_seed())"
   ]
  },
  {
   "cell_type": "code",
   "execution_count": null,
   "metadata": {},
   "outputs": [],
   "source": [
    "device = 'cuda:3'\n",
    "\n",
    "#### Start evaluation #####\n",
    "from tqdm import tqdm\n",
    "\n",
    "datas = []\n",
    "for i, data in enumerate(tqdm(testLoader)):\n",
    "    \n",
    "    data = data.to(device)\n",
    "    datas.append(data)"
   ]
  },
  {
   "cell_type": "code",
   "execution_count": null,
   "metadata": {},
   "outputs": [],
   "source": [
    "datas"
   ]
  },
  {
   "cell_type": "code",
   "execution_count": null,
   "metadata": {},
   "outputs": [],
   "source": [
    "import networkx as nx"
   ]
  },
  {
   "cell_type": "code",
   "execution_count": null,
   "metadata": {},
   "outputs": [],
   "source": [
    "def plot_graph(data):\n",
    "    fig, ax = plt.subplots()\n",
    "    fig.set_tight_layout(False)\n",
    "#     if data.ww == 1:\n",
    "#         node_color = [1,0,1]\n",
    "#     else:\n",
    "#         node_color = [1,1,0]\n",
    "#     if len(data.batch) == 22:\n",
    "    if data.ww == 1:\n",
    "        node_color = [1,0,1]\n",
    "    else:\n",
    "        node_color = [1,1,0]\n",
    "    g = torch_geometric.utils.to_networkx(data, to_undirected=False)\n",
    "    pos = nx.kamada_kawai_layout(g)\n",
    "    nx.draw(g,pos,with_labels=True,node_size  = 1000,font_size=40,node_color=node_color)\n",
    "    plt.show()"
   ]
  },
  {
   "cell_type": "code",
   "execution_count": null,
   "metadata": {
    "scrolled": true
   },
   "outputs": [],
   "source": [
    "for i in range(100):\n",
    "    plot_graph(datas[i])\n",
    "    print(datas[i].ww)"
   ]
  },
  {
   "cell_type": "code",
   "execution_count": null,
   "metadata": {
    "scrolled": false
   },
   "outputs": [],
   "source": [
    "for i in range(1000):\n",
    "    if datas[i].x.shape[0] == 7:\n",
    "        plot_graph(datas[i])\n",
    "        print(datas[i].ww)\n"
   ]
  }
 ],
 "metadata": {
  "kernelspec": {
   "display_name": "Python 3",
   "language": "python",
   "name": "python3"
  },
  "language_info": {
   "codemirror_mode": {
    "name": "ipython",
    "version": 3
   },
   "file_extension": ".py",
   "mimetype": "text/x-python",
   "name": "python",
   "nbconvert_exporter": "python",
   "pygments_lexer": "ipython3",
   "version": "3.7.9"
  }
 },
 "nbformat": 4,
 "nbformat_minor": 4
}
